{
 "cells": [
  {
   "cell_type": "markdown",
   "id": "1423a615",
   "metadata": {},
   "source": [
    "# 📊 Pre‑RAG Data‑Profiling\n",
    "\n",
    "**exploratory analysis** of the two knowledge‑base datasets that will feed the retrieval‑augmented chatbot:\n",
    "\n",
    "* `faqs_cleaned.csv`\n",
    "* `products_occupation.json`\n",
    "\n",
    "The aim is to surface data‑quality issues and useful statistics **before** we wire these corpora into a vector store."
   ]
  },
  {
   "cell_type": "markdown",
   "id": "8870070b",
   "metadata": {},
   "source": [
    "# Nexora RAG Customer Service Chatbot – Demo & Implementation Guide\n",
    "**Author:** Sujan Adhikari\n",
    "\n",
    "This interactive notebook walks through building a Retrieval‑Augmented Generation (RAG) customer‑service chatbot for **Nexora Pty Ltd** using **LangChain**, **Ollama Embeddings + gemma3**, and **ChromaDB**.  It covers:\n",
    "1. Data loading & preprocessing  \n",
    "2. Vector‑store creation  \n",
    "3. Simple intent recognition & entity extraction  \n",
    "4. RAG pipeline assembly  \n",
    "5. Lightweight streamlit web‑chat demo \n",
    "\n",
    "---"
   ]
  },
  {
   "cell_type": "code",
   "execution_count": 11,
   "id": "28a6e451",
   "metadata": {},
   "outputs": [],
   "source": [
    "import pandas as pd, json, itertools, matplotlib.pyplot as plt\n",
    "import csv\n",
    "plt.rcParams['figure.figsize'] = (8,4)"
   ]
  },
  {
   "cell_type": "markdown",
   "id": "4124f49a",
   "metadata": {},
   "source": [
    "## 2  FAQ dataset overview"
   ]
  },
  {
   "cell_type": "code",
   "execution_count": 12,
   "id": "ee583544",
   "metadata": {},
   "outputs": [
    {
     "name": "stdout",
     "output_type": "stream",
     "text": [
      "FAQ rows, columns: (130, 3)\n"
     ]
    }
   ],
   "source": [
    "FAQS_FILE = 'data/faqs.csv'\n",
    "FAQS_CLEANED_FILE = 'data/faqs_cleaned.csv'\n",
    "# CSV Cleaning (as provided, robust for unquoted commas in question field)\n",
    "\n",
    "with open(FAQS_FILE, \"r\", encoding=\"utf-8\") as infile, \\\n",
    "    open(FAQS_CLEANED_FILE, \"w\", newline=\"\", encoding=\"utf-8\") as outfile:\n",
    "    reader = csv.reader(infile)\n",
    "    writer = csv.writer(outfile, quoting=csv.QUOTE_MINIMAL)\n",
    "\n",
    "    try:\n",
    "        header = next(reader)\n",
    "        writer.writerow(header)\n",
    "\n",
    "        for row in reader:\n",
    "            if not row: continue # Skip empty rows\n",
    "            if len(row) > 3: # Question field likely contains unquoted commas\n",
    "                question_parts = row[:-2]\n",
    "                question = \",\".join(question_parts).strip('\" ') # Join and strip quotes/spaces\n",
    "                answer = row[-2].strip('\" ')\n",
    "                category = row[-1].strip('\" ')\n",
    "                writer.writerow([question, answer, category])\n",
    "            elif len(row) == 3:\n",
    "                writer.writerow([col.strip('\" ') for col in row])\n",
    "            else:\n",
    "                print(f\"Skipping malformed FAQ row: {row}\") # Log malformed rows\n",
    "    except StopIteration:\n",
    "        print(f\"Warning: {FAQS_FILE} might be empty or just has a header.\")\n",
    "        # Create an empty cleaned file with header if original was empty/header-only\n",
    "        if 'header' not in locals() or not header: header = ['question', 'answer', 'category']\n",
    "        writer.writerow(header)\n",
    "\n",
    "df_faq = pd.read_csv(FAQS_CLEANED_FILE)\n",
    "print('FAQ rows, columns:', df_faq.shape)"
   ]
  },
  {
   "cell_type": "code",
   "execution_count": 13,
   "id": "6098a4bb",
   "metadata": {},
   "outputs": [
    {
     "data": {
      "image/png": "[encoded data removed]",
      "text/plain": [
       "<Figure size 800x400 with 1 Axes>"
      ]
     },
     "metadata": {},
     "output_type": "display_data"
    }
   ],
   "source": [
    "# Category distribution\n",
    "faq_cat = df_faq['category'].value_counts()\n",
    "plt.figure()\n",
    "faq_cat.plot(kind=\"bar\")\n",
    "plt.title(\"FAQ Count by Category\")\n",
    "plt.xlabel(\"Category\")\n",
    "plt.ylabel(\"Number of FAQs\")\n",
    "plt.xticks(rotation=45, ha=\"right\")\n",
    "plt.tight_layout()\n",
    "plt.show()"
   ]
  },
  {
   "cell_type": "code",
   "execution_count": 14,
   "id": "b3378f3c",
   "metadata": {},
   "outputs": [
    {
     "name": "stdout",
     "output_type": "stream",
     "text": [
      "Number of duplicated question texts: 8\n"
     ]
    },
    {
     "data": {
      "text/html": [
       "<div>\n",
       "<style scoped>\n",
       "    .dataframe tbody tr th:only-of-type {\n",
       "        vertical-align: middle;\n",
       "    }\n",
       "\n",
       "    .dataframe tbody tr th {\n",
       "        vertical-align: top;\n",
       "    }\n",
       "\n",
       "    .dataframe thead th {\n",
       "        text-align: right;\n",
       "    }\n",
       "</style>\n",
       "<table border=\"1\" class=\"dataframe\">\n",
       "  <thead>\n",
       "    <tr style=\"text-align: right;\">\n",
       "      <th></th>\n",
       "      <th>question</th>\n",
       "      <th>category</th>\n",
       "    </tr>\n",
       "  </thead>\n",
       "  <tbody>\n",
       "    <tr>\n",
       "      <th>14</th>\n",
       "      <td>How do I get a quote?</td>\n",
       "      <td>General</td>\n",
       "    </tr>\n",
       "    <tr>\n",
       "      <th>25</th>\n",
       "      <td>How do I renew my policy?</td>\n",
       "      <td>Account</td>\n",
       "    </tr>\n",
       "    <tr>\n",
       "      <th>26</th>\n",
       "      <td>Can I cancel my policy?</td>\n",
       "      <td>Account</td>\n",
       "    </tr>\n",
       "    <tr>\n",
       "      <th>28</th>\n",
       "      <td>What information do I need to provide for a cl...</td>\n",
       "      <td>Claims</td>\n",
       "    </tr>\n",
       "    <tr>\n",
       "      <th>29</th>\n",
       "      <td>How long does the claims process take?</td>\n",
       "      <td>Claims</td>\n",
       "    </tr>\n",
       "  </tbody>\n",
       "</table>\n",
       "</div>"
      ],
      "text/plain": [
       "                                             question category\n",
       "14                              How do I get a quote?  General\n",
       "25                          How do I renew my policy?  Account\n",
       "26                            Can I cancel my policy?  Account\n",
       "28  What information do I need to provide for a cl...   Claims\n",
       "29             How long does the claims process take?   Claims"
      ]
     },
     "metadata": {},
     "output_type": "display_data"
    }
   ],
   "source": [
    "# Duplicate questions\n",
    "dupes = df_faq[df_faq.duplicated('question', keep=False)]\n",
    "print('Number of duplicated question texts:', dupes['question'].nunique())\n",
    "display(dupes[['question','category']].head())"
   ]
  },
  {
   "cell_type": "markdown",
   "id": "5bd78d79",
   "metadata": {},
   "source": [
    "Duplicates need consolidation; otherwise the retriever might surface two conflicting answers to the same query."
   ]
  },
  {
   "cell_type": "code",
   "execution_count": 15,
   "id": "7ae2c77d",
   "metadata": {},
   "outputs": [
    {
     "data": {
      "text/html": [
       "<div>\n",
       "<style scoped>\n",
       "    .dataframe tbody tr th:only-of-type {\n",
       "        vertical-align: middle;\n",
       "    }\n",
       "\n",
       "    .dataframe tbody tr th {\n",
       "        vertical-align: top;\n",
       "    }\n",
       "\n",
       "    .dataframe thead th {\n",
       "        text-align: right;\n",
       "    }\n",
       "</style>\n",
       "<table border=\"1\" class=\"dataframe\">\n",
       "  <thead>\n",
       "    <tr style=\"text-align: right;\">\n",
       "      <th></th>\n",
       "      <th>question_length</th>\n",
       "      <th>answer_length</th>\n",
       "    </tr>\n",
       "  </thead>\n",
       "  <tbody>\n",
       "    <tr>\n",
       "      <th>count</th>\n",
       "      <td>130.00</td>\n",
       "      <td>130.00</td>\n",
       "    </tr>\n",
       "    <tr>\n",
       "      <th>mean</th>\n",
       "      <td>41.47</td>\n",
       "      <td>144.00</td>\n",
       "    </tr>\n",
       "    <tr>\n",
       "      <th>std</th>\n",
       "      <td>11.03</td>\n",
       "      <td>45.78</td>\n",
       "    </tr>\n",
       "    <tr>\n",
       "      <th>min</th>\n",
       "      <td>21.00</td>\n",
       "      <td>62.00</td>\n",
       "    </tr>\n",
       "    <tr>\n",
       "      <th>25%</th>\n",
       "      <td>34.00</td>\n",
       "      <td>108.25</td>\n",
       "    </tr>\n",
       "    <tr>\n",
       "      <th>50%</th>\n",
       "      <td>40.00</td>\n",
       "      <td>132.50</td>\n",
       "    </tr>\n",
       "    <tr>\n",
       "      <th>75%</th>\n",
       "      <td>49.00</td>\n",
       "      <td>173.00</td>\n",
       "    </tr>\n",
       "    <tr>\n",
       "      <th>max</th>\n",
       "      <td>72.00</td>\n",
       "      <td>262.00</td>\n",
       "    </tr>\n",
       "  </tbody>\n",
       "</table>\n",
       "</div>"
      ],
      "text/plain": [
       "       question_length  answer_length\n",
       "count           130.00         130.00\n",
       "mean             41.47         144.00\n",
       "std              11.03          45.78\n",
       "min              21.00          62.00\n",
       "25%              34.00         108.25\n",
       "50%              40.00         132.50\n",
       "75%              49.00         173.00\n",
       "max              72.00         262.00"
      ]
     },
     "metadata": {},
     "output_type": "display_data"
    }
   ],
   "source": [
    "# Length stats\n",
    "df_faq['question_length'] = df_faq['question'].str.len()\n",
    "df_faq['answer_length']   = df_faq['answer'].str.len()\n",
    "display(df_faq[['question_length','answer_length']].describe().round(2))"
   ]
  },
  {
   "cell_type": "markdown",
   "id": "ef093b8b",
   "metadata": {},
   "source": [
    "Lengths confirm that each Q‑A pair fits comfortably into a single embedding, so no chunking is required."
   ]
  },
  {
   "cell_type": "markdown",
   "id": "12aff623",
   "metadata": {},
   "source": [
    "## 3  Product & Occupation dataset overview"
   ]
  },
  {
   "cell_type": "code",
   "execution_count": 16,
   "id": "11aebaa4",
   "metadata": {},
   "outputs": [
    {
     "name": "stdout",
     "output_type": "stream",
     "text": [
      "Products rows, columns: (6, 15)\n",
      "Occupation rows, columns: (91, 5)\n",
      "Products columns: ['product_id', 'name', 'description', 'target_industries', 'coverage_options', 'key_features', 'exclusions', 'unique_selling_points', 'required_documents', 'premium_range.min', 'premium_range.max', 'premium_range.currency', 'excess_range.min', 'excess_range.max', 'excess_range.currency']\n",
      "Occupation columns: ['industry', 'occupation', 'risk_level', 'recommended_products', 'claim_likelihood']\n"
     ]
    }
   ],
   "source": [
    "with open('data/products_occupation.json', 'r', encoding='utf-8') as f:\n",
    "    prod_occ = json.load(f)\n",
    "\n",
    "df_products = pd.json_normalize(prod_occ['products'])\n",
    "df_occ      = pd.json_normalize(prod_occ['occupation_data'])\n",
    "print('Products rows, columns:', df_products.shape)\n",
    "print('Occupation rows, columns:', df_occ.shape)\n",
    "\n",
    "print('Products columns:', df_products.columns.tolist())\n",
    "print('Occupation columns:', df_occ.columns.tolist())"
   ]
  },
  {
   "cell_type": "code",
   "execution_count": 17,
   "id": "23062b5c",
   "metadata": {},
   "outputs": [
    {
     "name": "stdout",
     "output_type": "stream",
     "text": [
      "       product_char_count  occupation_char_count\n",
      "count            6.000000              91.000000\n",
      "mean          1058.500000             194.164835\n",
      "std             69.661324              22.258713\n",
      "min            975.000000             142.000000\n",
      "25%           1004.000000             178.000000\n",
      "50%           1062.000000             195.000000\n",
      "75%           1099.000000             207.000000\n",
      "max           1156.000000             252.000000\n"
     ]
    }
   ],
   "source": [
    "# Compute character counts for each product and each occupation\n",
    "product_lengths = [\n",
    "    len(json.dumps(prod, ensure_ascii=False))\n",
    "    for prod in prod_occ['products']\n",
    "]\n",
    "occupation_lengths = [\n",
    "    len(json.dumps(occ, ensure_ascii=False))\n",
    "    for occ in prod_occ['occupation_data']\n",
    "]\n",
    "\n",
    "# 3. Build a DataFrame with separate columns\n",
    "df_desc = pd.DataFrame({\n",
    "    'product_char_count': pd.Series(product_lengths),\n",
    "    'occupation_char_count': pd.Series(occupation_lengths)\n",
    "})\n",
    "\n",
    "# 4. Get descriptive statistics\n",
    "stats = df_desc.describe()\n",
    "print(stats)"
   ]
  },
  {
   "cell_type": "code",
   "execution_count": 18,
   "id": "0a7076fc",
   "metadata": {},
   "outputs": [
    {
     "name": "stdout",
     "output_type": "stream",
     "text": [
      "Correlation risk ↔ claim: 0.065\n"
     ]
    }
   ],
   "source": [
    "# Risk and claim statistics\n",
    "corr = df_occ['risk_level'].corr(df_occ['claim_likelihood']).round(3)\n",
    "print('Correlation risk ↔ claim:', corr)"
   ]
  },
  {
   "cell_type": "markdown",
   "id": "f28dbafb",
   "metadata": {},
   "source": [
    "* `risk_level` is a 1–5 ordinal scale; `claim_likelihood` is continuous – keep both fields because they are almost uncorrelated."
   ]
  },
  {
   "cell_type": "code",
   "execution_count": 19,
   "id": "df7a05eb",
   "metadata": {},
   "outputs": [
    {
     "data": {
      "text/html": [
       "<div>\n",
       "<style scoped>\n",
       "    .dataframe tbody tr th:only-of-type {\n",
       "        vertical-align: middle;\n",
       "    }\n",
       "\n",
       "    .dataframe tbody tr th {\n",
       "        vertical-align: top;\n",
       "    }\n",
       "\n",
       "    .dataframe thead th {\n",
       "        text-align: right;\n",
       "    }\n",
       "</style>\n",
       "<table border=\"1\" class=\"dataframe\">\n",
       "  <thead>\n",
       "    <tr style=\"text-align: right;\">\n",
       "      <th></th>\n",
       "      <th>count</th>\n",
       "    </tr>\n",
       "  </thead>\n",
       "  <tbody>\n",
       "    <tr>\n",
       "      <th>Business Insurance</th>\n",
       "      <td>91</td>\n",
       "    </tr>\n",
       "    <tr>\n",
       "      <th>Professional Indemnity</th>\n",
       "      <td>41</td>\n",
       "    </tr>\n",
       "    <tr>\n",
       "      <th>Management Liability</th>\n",
       "      <td>39</td>\n",
       "    </tr>\n",
       "    <tr>\n",
       "      <th>Public Liability</th>\n",
       "      <td>38</td>\n",
       "    </tr>\n",
       "    <tr>\n",
       "      <th>Tax Audit Insurance</th>\n",
       "      <td>28</td>\n",
       "    </tr>\n",
       "    <tr>\n",
       "      <th>Cyber Insurance</th>\n",
       "      <td>24</td>\n",
       "    </tr>\n",
       "  </tbody>\n",
       "</table>\n",
       "</div>"
      ],
      "text/plain": [
       "                        count\n",
       "Business Insurance         91\n",
       "Professional Indemnity     41\n",
       "Management Liability       39\n",
       "Public Liability           38\n",
       "Tax Audit Insurance        28\n",
       "Cyber Insurance            24"
      ]
     },
     "execution_count": 19,
     "metadata": {},
     "output_type": "execute_result"
    }
   ],
   "source": [
    "# Product recommendation frequency across occupations\n",
    "from collections import Counter\n",
    "prod_counts = Counter(itertools.chain.from_iterable(df_occ['recommended_products']))\n",
    "pd.Series(prod_counts).sort_values(ascending=False).to_frame('count')"
   ]
  },
  {
   "cell_type": "markdown",
   "id": "96a1045d",
   "metadata": {},
   "source": [
    "This frequency table tells you which covers are recommended most often and therefore which ones the chatbot should prioritise when asked generic questions."
   ]
  },
  {
   "cell_type": "code",
   "execution_count": 21,
   "id": "d834b343",
   "metadata": {},
   "outputs": [
    {
     "name": "stdout",
     "output_type": "stream",
     "text": [
      "Loaded 100 chat conversations from data\\chat_conversations.json.\n",
      "Identified 143 potential Q&A pairs from chat logs for review.\n",
      "Example potential Q&A: {'question': 'What insurance do I need as a IT Consultant?', 'answer': 'As a IT Consultant in the IT Services industry, you should consider Tax Audit Insurance, Business Insurance, Management Liability insurance. The exact coverage needed depends on your specific business operations and risks.', 'source_conversation_id': 'conv_658aa0c1'}\n"
     ]
    }
   ],
   "source": [
    "from pathlib import Path\n",
    "CHAT_CONVERSATIONS_FILE = Path('data/chat_conversations.json')\n",
    "chat_conversation_docs = [] # Not directly adding to KB for RAG now, but for analysis\n",
    "if CHAT_CONVERSATIONS_FILE.exists():\n",
    "    with open(CHAT_CONVERSATIONS_FILE, 'r', encoding='utf-8') as f:\n",
    "        try:\n",
    "            chat_data = json.load(f)\n",
    "            print(f\"Loaded {len(chat_data)} chat conversations from {CHAT_CONVERSATIONS_FILE}.\")\n",
    "            # Example: Extracting simple Q&A patterns for potential KB augmentation or intent examples\n",
    "            # This is a conceptual step; full processing would require more sophisticated logic.\n",
    "            potential_new_qas = []\n",
    "            for conv in chat_data:\n",
    "                messages = conv.get('messages', [])\n",
    "                for i in range(len(messages) - 1):\n",
    "                    if messages[i]['role'] == 'customer' and messages[i+1]['role'] == 'agent':\n",
    "                        # Simple heuristic: if customer asks and agent answers immediately\n",
    "                        q = messages[i]['text']\n",
    "                        a = messages[i+1]['text']\n",
    "                        # Further filtering could be applied (e.g., length, keywords)\n",
    "                        if len(q) > 10 and len(a) > 10 and \"?\" in q: # Basic filter\n",
    "                             potential_new_qas.append({\"question\": q, \"answer\": a, \"source_conversation_id\": conv.get(\"id\")})\n",
    "            \n",
    "            print(f\"Identified {len(potential_new_qas)} potential Q&A pairs from chat logs for review.\")\n",
    "            if potential_new_qas:\n",
    "                print(\"Example potential Q&A:\", potential_new_qas[0])\n",
    "            \n",
    "            # We are NOT adding these to `documents` for now to keep the KB focused on curated content (products, FAQs).\n",
    "            # These would be candidates for manual review and addition to FAQs, or for fine-tuning datasets.\n",
    "\n",
    "        except json.JSONDecodeError as e:\n",
    "            print(f\"Error decoding {CHAT_CONVERSATIONS_FILE}: {e}\")\n",
    "            chat_data = []\n",
    "        except Exception as e:\n",
    "            print(f\"An error occurred while processing {CHAT_CONVERSATIONS_FILE}: {e}\")\n",
    "            chat_data = []\n",
    "else:\n",
    "    print(f\"{CHAT_CONVERSATIONS_FILE} not found. Skipping chat conversation analysis.\")\n",
    "    chat_data = []"
   ]
  },
  {
   "cell_type": "code",
   "execution_count": null,
   "id": "29fac0a4",
   "metadata": {},
   "outputs": [],
   "source": []
  }
 ],
 "metadata": {
  "kernelspec": {
   "display_name": ".venv",
   "language": "python",
   "name": "python3"
  },
  "language_info": {
   "codemirror_mode": {
    "name": "ipython",
    "version": 3
   },
   "file_extension": ".py",
   "mimetype": "text/x-python",
   "name": "python",
   "nbconvert_exporter": "python",
   "pygments_lexer": "ipython3",
   "version": "3.12.8"
  }
 },
 "nbformat": 4,
 "nbformat_minor": 5
}
