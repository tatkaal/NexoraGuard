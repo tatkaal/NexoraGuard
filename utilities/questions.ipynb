{
 "cells": [
  {
   "cell_type": "markdown",
   "id": "e0295eeb",
   "metadata": {},
   "source": [
    "### Use Case 1: Product Information Query\n",
    "Let's ask about \"Professional Indemnity\" insurance. (Ensure this product is in your `products_occupation.json` for best results, even the dummy one)."
   ]
  },
  {
   "cell_type": "code",
   "execution_count": null,
   "metadata": {
    "tags": []
   },
   "outputs": [],
   "source": [
    "if callable(ask_nexora_guard_global):\n",
    "    query_demo_1 = \"What is Professional Indemnity insurance?\"\n",
    "    response_demo_1 = ask_nexora_for_demo(query_demo_1)\n",
    "    # LLM output streams above this due to callback. display_nexora_response_demo formats final result.\n",
    "    display_nexora_response_demo(response_demo_1, query_demo_1)\n",
    "    \n",
    "    print(\"\\n\" + \"*\"*30 + \" Next Query for Use Case 1 \" + \"*\"*30 + \"\\n\")\n",
    "\n",
    "    query_demo_1b = \"Tell me about the exclusions for Professional Indemnity\"\n",
    "    response_demo_1b = ask_nexora_for_demo(query_demo_1b)\n",
    "    display_nexora_response_demo(response_demo_1b, query_demo_1b)\n",
    "else:\n",
    "    print(\"Demo Case 1 skipped: NexoraGuard not initialized.\")\n",
    "\n",
    "print('''\n",
    "\\n**Observation Points for Use Case 1:**\n",
    "*   Did NexoraGuard correctly identify the \"product_info\" intent and \"Professional Indemnity\" entity?\n",
    "*   Is the answer accurate and based on the product data loaded in Phase 2?\n",
    "*   Are the sources listed (if any) relevant to Professional Indemnity?\n",
    "''')\n"
   ]
  },
  {
   "cell_type": "markdown",
   "metadata": {},
   "source": [
    "### Use Case 2: Quick FAQ Answer\n",
    "Let's try a common FAQ like \"How do I get a quote?\" (Ensure this FAQ is in `faqs_cleaned.csv`)."
   ]
  },
  {
   "cell_type": "code",
   "execution_count": null,
   "metadata": {
    "tags": []
   },
   "outputs": [],
   "source": [
    "if callable(ask_nexora_guard_global):\n",
    "    query_demo_2 = \"How do I get a quote?\"\n",
    "    response_demo_2 = ask_nexora_for_demo(query_demo_2)\n",
    "    display_nexora_response_demo(response_demo_2, query_demo_2)\n",
    "else:\n",
    "    print(\"Demo Case 2 skipped: NexoraGuard not initialized.\")\n",
    "\n",
    "print('''\n",
    "\\n**Observation Points for Use Case 2:**\n",
    "*   Did NexoraGuard retrieve the answer primarily from an FAQ document source?\n",
    "*   Is the answer concise and directly address the question?\n",
    "''')\n"
   ]
  },
  {
   "cell_type": "markdown",
   "metadata": {},
   "source": [
    "### Use Case 3: Handling Greetings & Farewells"
   ]
  },
  {
   "cell_type": "code",
   "execution_count": null,
   "metadata": {
    "tags": []
   },
   "outputs": [],
   "source": [
    "if callable(ask_nexora_guard_global):\n",
    "    query_demo_3_greeting = \"Hello there\"\n",
    "    response_demo_3_greeting = ask_nexora_for_demo(query_demo_3_greeting)\n",
    "    display_nexora_response_demo(response_demo_3_greeting, query_demo_3_greeting)\n",
    "\n",
    "    print(\"\\n\" + \"*\"*30 + \" Next Query for Use Case 3 \" + \"*\"*30 + \"\\n\")\n",
    "    \n",
    "    query_demo_3_farewell = \"thanks, that was helpful!\"\n",
    "    response_demo_3_farewell = ask_nexora_for_demo(query_demo_3_farewell)\n",
    "    display_nexora_response_demo(response_demo_3_farewell, query_demo_3_farewell)\n",
    "else:\n",
    "    print(\"Demo Case 3 skipped: NexoraGuard not initialized.\")\n",
    "\n",
    "print('''\n",
    "\\n**Observation Points for Use Case 3:**\n",
    "*   Does NexoraGuard respond politely and appropriately without attempting complex knowledge retrieval (handled by pre-RAG logic in `ask_nexora_guard_global`)?\n",
    "''')\n"
   ]
  },
  {
   "cell_type": "markdown",
   "metadata": {},
   "source": [
    "### Use Case 4: Escalation Path - \"Talk to an Agent\""
   ]
  },
  {
   "cell_type": "code",
   "execution_count": null,
   "metadata": {
    "tags": []
   },
   "outputs": [],
   "source": [
    "if callable(ask_nexora_guard_global):\n",
    "    query_demo_4 = \"I need to speak to a human agent\"\n",
    "    response_demo_4 = ask_nexora_for_demo(query_demo_4)\n",
    "    display_nexora_response_demo(response_demo_4, query_demo_4)\n",
    "else:\n",
    "    print(\"Demo Case 4 skipped: NexoraGuard not initialized.\")\n",
    "\n",
    "print('''\n",
    "\\n**Observation Points for Use Case 4:**\n",
    "*   Does NexoraGuard provide the correct contact information/guidance for escalation (handled by pre-RAG logic)?\n",
    "''')\n"
   ]
  },
  {
   "cell_type": "markdown",
   "metadata": {},
   "source": [
    "### Use Case 5: Query where information might NOT be present\n",
    "Let's ask something NexoraGuard likely doesn't know, to test its grounding and ability to say \"I don't know.\""
   ]
  },
  {
   "cell_type": "code",
   "execution_count": null,
   "metadata": {
    "tags": []
   },
   "outputs": [],
   "source": [
    "if callable(ask_nexora_guard_global):\n",
    "    query_demo_5_unrelated = \"What's the best recipe for apple pie?\" # Clearly unrelated\n",
    "    response_demo_5_unrelated = ask_nexora_for_demo(query_demo_5_unrelated)\n",
    "    display_nexora_response_demo(response_demo_5_unrelated, query_demo_5_unrelated)\n",
    "\n",
    "    print(\"\\n\" + \"*\"*30 + \" Next Query for Use Case 5 \" + \"*\"*30 + \"\\n\")\n",
    "\n",
    "    query_demo_5_unknown_product = \"Tell me about Nexora's exclusive unicorn insurance policy.\" # Fictional product\n",
    "    response_demo_5_unknown_product = ask_nexora_for_demo(query_demo_5_unknown_product)\n",
    "    display_nexora_response_demo(response_demo_5_unknown_product, query_demo_5_unknown_product)\n",
    "else:\n",
    "    print(\"Demo Case 5 skipped: NexoraGuard not initialized.\")\n",
    "\n",
    "print('''\n",
    "\\n**Observation Points for Use Case 5:**\n",
    "*   Does NexoraGuard correctly state that it doesn't have the information, as per the prompt instructions?\n",
    "*   Does it avoid making up answers (hallucinating) and instead guide the user to contact an agent?\n",
    "''')\n"
   ]
  },
  {
   "cell_type": "markdown",
   "metadata": {},
   "source": [
    "**(Stakeholders & Technical Team):** This live demo illustrates the core capabilities: understanding queries, retrieving relevant information, generating grounded answers, and handling various interaction types. The key is that its knowledge is *controlled* and *auditable* (system knows the sources, even if not always displayed to user by default)."
   ]
  }
 ],
 "metadata": {
  "kernelspec": {
   "display_name": "Python 3 (ipykernel)",
   "language": "python",
   "name": "python3"
  },
  "language_info": {
   "codemirror_mode": {
    "name": "ipython",
    "version": 3
   },
   "file_extension": ".py",
   "mimetype": "text/x-python",
   "name": "python",
   "nbconvert_exporter": "python",
   "pygments_lexer": "ipython3",
   "version": "3.10.12"
  },
  "vscode": {
   "interpreter": {
    "hash": "e5d7041a4c219dfbf319a47f51793688c7e629e9513d7f1619867e968f6a8f2c"
   }
  }
 },
 "nbformat": 4,
 "nbformat_minor": 5
}
